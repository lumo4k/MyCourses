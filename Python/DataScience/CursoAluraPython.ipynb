{
  "nbformat": 4,
  "nbformat_minor": 0,
  "metadata": {
    "colab": {
      "name": "CursoAluraPython.ipynb",
      "provenance": []
    },
    "kernelspec": {
      "name": "python3",
      "display_name": "Python 3"
    }
  },
  "cells": [
    {
      "cell_type": "markdown",
      "metadata": {
        "id": "6ii5AoSXbiWB",
        "colab_type": "text"
      },
      "source": [
        "# Dando início ao curso de Python"
      ]
    },
    {
      "cell_type": "code",
      "metadata": {
        "id": "sq4S_5mSZn9z",
        "colab_type": "code",
        "colab": {}
      },
      "source": [
        "nome = 'Luan'"
      ],
      "execution_count": 0,
      "outputs": []
    },
    {
      "cell_type": "code",
      "metadata": {
        "id": "jEXSNAB5a-Gx",
        "colab_type": "code",
        "colab": {}
      },
      "source": [
        "idade = 21"
      ],
      "execution_count": 0,
      "outputs": []
    },
    {
      "cell_type": "code",
      "metadata": {
        "id": "So0yBgPZbA0E",
        "colab_type": "code",
        "outputId": "1781d64b-8a9f-4bbd-d903-f7a9867ad3a6",
        "colab": {
          "base_uri": "https://localhost:8080/",
          "height": 35
        }
      },
      "source": [
        "print(f'Meu nome é {nome} e minha idade é {idade}')"
      ],
      "execution_count": 0,
      "outputs": [
        {
          "output_type": "stream",
          "text": [
            "Meu nome é Luan e minha idade é 21\n"
          ],
          "name": "stdout"
        }
      ]
    },
    {
      "cell_type": "markdown",
      "metadata": {
        "id": "OMR7uH9fcCiR",
        "colab_type": "text"
      },
      "source": [
        "# Criando funções em python"
      ]
    },
    {
      "cell_type": "code",
      "metadata": {
        "id": "bE1dZ-eUcKVt",
        "colab_type": "code",
        "colab": {}
      },
      "source": [
        "def saudacao():\n",
        "  nome = input('Qual seu nome')\n",
        "  print(f'Bem vindo {nome}')"
      ],
      "execution_count": 0,
      "outputs": []
    },
    {
      "cell_type": "code",
      "metadata": {
        "id": "M884Dy8qcnoB",
        "colab_type": "code",
        "outputId": "2c20bc34-d8b7-4332-bb41-56455ca31691",
        "colab": {
          "base_uri": "https://localhost:8080/",
          "height": 54
        }
      },
      "source": [
        "saudacao()"
      ],
      "execution_count": 0,
      "outputs": [
        {
          "output_type": "stream",
          "text": [
            "Qual seu nomeLuan\n",
            "Bem vindo Luan\n"
          ],
          "name": "stdout"
        }
      ]
    },
    {
      "cell_type": "code",
      "metadata": {
        "id": "lSqF3gOFco1B",
        "colab_type": "code",
        "colab": {}
      },
      "source": [
        ""
      ],
      "execution_count": 0,
      "outputs": []
    },
    {
      "cell_type": "markdown",
      "metadata": {
        "id": "rRl4vtpqguxV",
        "colab_type": "text"
      },
      "source": [
        "# Função sem parâmetros e com convesão para int"
      ]
    },
    {
      "cell_type": "code",
      "metadata": {
        "id": "wLb5pjpwh86h",
        "colab_type": "code",
        "colab": {}
      },
      "source": [
        "nome = 'Giovanni'"
      ],
      "execution_count": 0,
      "outputs": []
    },
    {
      "cell_type": "code",
      "metadata": {
        "id": "duFH_TvYgxfO",
        "colab_type": "code",
        "colab": {}
      },
      "source": [
        "def saudacoesParametros(nome_da_pessoa):\n",
        "  print(f'Olá {nome_da_pessoa}')"
      ],
      "execution_count": 0,
      "outputs": []
    },
    {
      "cell_type": "code",
      "metadata": {
        "id": "2Frsx760hAnt",
        "colab_type": "code",
        "outputId": "720d0443-5336-4355-99d6-128ff32ab581",
        "colab": {
          "base_uri": "https://localhost:8080/",
          "height": 35
        }
      },
      "source": [
        "saudacoesParametros('Giovanni')"
      ],
      "execution_count": 0,
      "outputs": [
        {
          "output_type": "stream",
          "text": [
            "Olá Giovanni\n"
          ],
          "name": "stdout"
        }
      ]
    },
    {
      "cell_type": "code",
      "metadata": {
        "id": "VYaWBBp7hDIn",
        "colab_type": "code",
        "colab": {}
      },
      "source": [
        "idade = 17"
      ],
      "execution_count": 0,
      "outputs": []
    },
    {
      "cell_type": "code",
      "metadata": {
        "id": "CTeYsJRghqHT",
        "colab_type": "code",
        "outputId": "eb3ad7ae-663a-4d2d-b3fc-10dc4438be27",
        "colab": {
          "base_uri": "https://localhost:8080/",
          "height": 54
        }
      },
      "source": [
        "def verificaDirigir():\n",
        "  idade = int(input(f'Digite sua idade {nome} '))\n",
        "  if(idade >= 18):\n",
        "    print(f'Você pode dirigir {nome}')\n",
        "  else:\n",
        "    print(f'Você não pode dirigir {nome}')\n",
        "\n",
        "verificaDirigir()"
      ],
      "execution_count": 0,
      "outputs": [
        {
          "output_type": "stream",
          "text": [
            "Digite sua idade Giovanni 23\n",
            "Você pode dirigir Giovanni\n"
          ],
          "name": "stdout"
        }
      ]
    },
    {
      "cell_type": "markdown",
      "metadata": {
        "id": "hGXQIAt5urzy",
        "colab_type": "text"
      },
      "source": [
        "# Função IF com parâmetros"
      ]
    },
    {
      "cell_type": "code",
      "metadata": {
        "id": "Eiko-lFBux_k",
        "colab_type": "code",
        "outputId": "e3649c13-54bb-4328-8f54-25c31feda62b",
        "colab": {
          "base_uri": "https://localhost:8080/",
          "height": 35
        }
      },
      "source": [
        "def funcaoComParametros(nomeDaPessoa, idade):\n",
        "  if(idade >= 18):\n",
        "    print(f'Você pode dirigir {nomeDaPessoa}')\n",
        "  else:\n",
        "    print(f'Você não pode dirigir {nomeDaPessoa}')\n",
        "\n",
        "funcaoComParametros('Luan', 15)"
      ],
      "execution_count": 0,
      "outputs": [
        {
          "output_type": "stream",
          "text": [
            "Você não pode dirigir Luan\n"
          ],
          "name": "stdout"
        }
      ]
    },
    {
      "cell_type": "markdown",
      "metadata": {
        "id": "aIFdOgOtEpm_",
        "colab_type": "text"
      },
      "source": [
        "# Listas"
      ]
    },
    {
      "cell_type": "code",
      "metadata": {
        "id": "PAAxkDeOErdi",
        "colab_type": "code",
        "colab": {}
      },
      "source": [
        "idade = 23"
      ],
      "execution_count": 0,
      "outputs": []
    },
    {
      "cell_type": "code",
      "metadata": {
        "id": "a_nC9a5vEwiK",
        "colab_type": "code",
        "outputId": "9653add5-fe81-434f-ab9b-acd673e1af39",
        "colab": {
          "base_uri": "https://localhost:8080/",
          "height": 35
        }
      },
      "source": [
        "type(idade)"
      ],
      "execution_count": 0,
      "outputs": [
        {
          "output_type": "execute_result",
          "data": {
            "text/plain": [
              "int"
            ]
          },
          "metadata": {
            "tags": []
          },
          "execution_count": 2
        }
      ]
    },
    {
      "cell_type": "code",
      "metadata": {
        "id": "8Ch00N_KEyRM",
        "colab_type": "code",
        "colab": {}
      },
      "source": [
        "idades = [21, 23, 18, 15, 13]"
      ],
      "execution_count": 0,
      "outputs": []
    },
    {
      "cell_type": "code",
      "metadata": {
        "id": "z0jMuKzKE4hi",
        "colab_type": "code",
        "outputId": "369833e9-249e-4336-d313-7bae62348840",
        "colab": {
          "base_uri": "https://localhost:8080/",
          "height": 35
        }
      },
      "source": [
        "type(idades)"
      ],
      "execution_count": 0,
      "outputs": [
        {
          "output_type": "execute_result",
          "data": {
            "text/plain": [
              "list"
            ]
          },
          "metadata": {
            "tags": []
          },
          "execution_count": 4
        }
      ]
    },
    {
      "cell_type": "code",
      "metadata": {
        "id": "GKyMyP8nE588",
        "colab_type": "code",
        "outputId": "82b22f52-10f8-4f3a-a74e-f97d2e373b4c",
        "colab": {
          "base_uri": "https://localhost:8080/",
          "height": 35
        }
      },
      "source": [
        "idades[1]"
      ],
      "execution_count": 0,
      "outputs": [
        {
          "output_type": "execute_result",
          "data": {
            "text/plain": [
              "23"
            ]
          },
          "metadata": {
            "tags": []
          },
          "execution_count": 5
        }
      ]
    },
    {
      "cell_type": "code",
      "metadata": {
        "id": "lLj7QhrtE-i9",
        "colab_type": "code",
        "outputId": "b263d4a4-00f7-43ed-8f00-b19a5f72bbc9",
        "colab": {
          "base_uri": "https://localhost:8080/",
          "height": 35
        }
      },
      "source": [
        "idades[0:4]"
      ],
      "execution_count": 0,
      "outputs": [
        {
          "output_type": "execute_result",
          "data": {
            "text/plain": [
              "[21, 23, 18, 15]"
            ]
          },
          "metadata": {
            "tags": []
          },
          "execution_count": 6
        }
      ]
    },
    {
      "cell_type": "code",
      "metadata": {
        "id": "fxEReD4kFKOu",
        "colab_type": "code",
        "outputId": "b0cc2e14-e50a-4bb7-ca9d-e3c02364e1e5",
        "colab": {
          "base_uri": "https://localhost:8080/",
          "height": 109
        }
      },
      "source": [
        "for idade in idades:\n",
        "  print(f'você tem {idade} anos')"
      ],
      "execution_count": 0,
      "outputs": [
        {
          "output_type": "stream",
          "text": [
            "você tem 21 anos\n",
            "você tem 23 anos\n",
            "você tem 18 anos\n",
            "você tem 15 anos\n",
            "você tem 13 anos\n"
          ],
          "name": "stdout"
        }
      ]
    },
    {
      "cell_type": "code",
      "metadata": {
        "id": "zahT91qKF4j4",
        "colab_type": "code",
        "colab": {}
      },
      "source": [
        ""
      ],
      "execution_count": 0,
      "outputs": []
    },
    {
      "cell_type": "markdown",
      "metadata": {
        "id": "31NyfCQpRkEp",
        "colab_type": "text"
      },
      "source": [
        "# Booleano"
      ]
    },
    {
      "cell_type": "code",
      "metadata": {
        "id": "14iCYTMtRmY5",
        "colab_type": "code",
        "outputId": "806f1f21-b070-499a-ec1c-fe92dffe5c2d",
        "colab": {
          "base_uri": "https://localhost:8080/",
          "height": 35
        }
      },
      "source": [
        "IdadeMaior = idades[0] >= 18\n",
        "IdadeMaior"
      ],
      "execution_count": 0,
      "outputs": [
        {
          "output_type": "execute_result",
          "data": {
            "text/plain": [
              "True"
            ]
          },
          "metadata": {
            "tags": []
          },
          "execution_count": 16
        }
      ]
    },
    {
      "cell_type": "code",
      "metadata": {
        "id": "S70VOuZKSAom",
        "colab_type": "code",
        "outputId": "5506a079-d413-4866-bb84-3053def099c0",
        "colab": {
          "base_uri": "https://localhost:8080/",
          "height": 35
        }
      },
      "source": [
        "permissoes = []\n",
        "\n",
        "def PodeDirigir(idades, permissoes):\n",
        "  for idade in idades:\n",
        "    if idade >= 18:\n",
        "      permissoes.append(True)\n",
        "    else:\n",
        "      permissoes.append(False)\n",
        "\n",
        "PodeDirigir(idades, permissoes)\n",
        "\n",
        "permissoes"
      ],
      "execution_count": 0,
      "outputs": [
        {
          "output_type": "execute_result",
          "data": {
            "text/plain": [
              "[True, True, True, False, False]"
            ]
          },
          "metadata": {
            "tags": []
          },
          "execution_count": 25
        }
      ]
    },
    {
      "cell_type": "code",
      "metadata": {
        "id": "jI3LGTe1n7vS",
        "colab_type": "code",
        "outputId": "d417bb71-f7fb-4db0-a71d-743ea4891519",
        "colab": {
          "base_uri": "https://localhost:8080/",
          "height": 109
        }
      },
      "source": [
        "for permissao in permissoes:\n",
        "  if permissao == True:\n",
        "    print('Pode Dirigir')\n",
        "  else:\n",
        "    print('Não pode dirigir')"
      ],
      "execution_count": 0,
      "outputs": [
        {
          "output_type": "stream",
          "text": [
            "Pode Dirigir\n",
            "Pode Dirigir\n",
            "Pode Dirigir\n",
            "Não pode dirigir\n",
            "Não pode dirigir\n"
          ],
          "name": "stdout"
        }
      ]
    },
    {
      "cell_type": "code",
      "metadata": {
        "id": "q-M3_AXeoznm",
        "colab_type": "code",
        "colab": {}
      },
      "source": [
        ""
      ],
      "execution_count": 0,
      "outputs": []
    },
    {
      "cell_type": "markdown",
      "metadata": {
        "id": "gQkVb79Hrp9B",
        "colab_type": "text"
      },
      "source": [
        "# Tipos de uma Lista"
      ]
    },
    {
      "cell_type": "code",
      "metadata": {
        "id": "Dj9BO1tDrrnk",
        "colab_type": "code",
        "outputId": "b83dead6-6664-4e48-b65b-2c58010b02fe",
        "colab": {
          "base_uri": "https://localhost:8080/",
          "height": 109
        }
      },
      "source": [
        "lista = ['Luan', 23, True, 2.50, '200']\n",
        "\n",
        "for elemento in lista:\n",
        "  print(f'O elemento {elemento} da lista é do tipo: ', type(elemento))"
      ],
      "execution_count": 0,
      "outputs": [
        {
          "output_type": "stream",
          "text": [
            "O elemento Luan da lista é do tipo:  <class 'str'>\n",
            "O elemento 23 da lista é do tipo:  <class 'int'>\n",
            "O elemento True da lista é do tipo:  <class 'bool'>\n",
            "O elemento 2.5 da lista é do tipo:  <class 'float'>\n",
            "O elemento 200 da lista é do tipo:  <class 'str'>\n"
          ],
          "name": "stdout"
        }
      ]
    },
    {
      "cell_type": "code",
      "metadata": {
        "id": "sjl3NJtzsCtY",
        "colab_type": "code",
        "colab": {}
      },
      "source": [
        ""
      ],
      "execution_count": 0,
      "outputs": []
    },
    {
      "cell_type": "markdown",
      "metadata": {
        "id": "f6xN08KfsgMQ",
        "colab_type": "text"
      },
      "source": [
        "# Import"
      ]
    },
    {
      "cell_type": "code",
      "metadata": {
        "id": "LrEKKf6kshhP",
        "colab_type": "code",
        "colab": {}
      },
      "source": [
        "from random import randrange,seed"
      ],
      "execution_count": 0,
      "outputs": []
    },
    {
      "cell_type": "code",
      "metadata": {
        "id": "Gw_sKcTFu_LM",
        "colab_type": "code",
        "colab": {}
      },
      "source": [
        "seed(10)"
      ],
      "execution_count": 0,
      "outputs": []
    },
    {
      "cell_type": "code",
      "metadata": {
        "id": "crOqAGRXsmKV",
        "colab_type": "code",
        "outputId": "d10b4e50-d266-4689-9d0a-7c5c3c70c4ba",
        "colab": {
          "base_uri": "https://localhost:8080/",
          "height": 35
        }
      },
      "source": [
        "randrange(0, 100)"
      ],
      "execution_count": 0,
      "outputs": [
        {
          "output_type": "execute_result",
          "data": {
            "text/plain": [
              "73"
            ]
          },
          "metadata": {
            "tags": []
          },
          "execution_count": 61
        }
      ]
    },
    {
      "cell_type": "code",
      "metadata": {
        "id": "JADi--x1suFR",
        "colab_type": "code",
        "outputId": "29b6c043-a231-42ef-db3a-8e9db6fe32f9",
        "colab": {
          "base_uri": "https://localhost:8080/",
          "height": 35
        }
      },
      "source": [
        "notas_matematicas = []\n",
        "\n",
        "for notas in range(8):\n",
        "  notas_matematicas.append(randrange(0,11))\n",
        "\n",
        "notas_matematicas"
      ],
      "execution_count": 0,
      "outputs": [
        {
          "output_type": "execute_result",
          "data": {
            "text/plain": [
              "[0, 6, 7, 9, 0, 3, 7, 7]"
            ]
          },
          "metadata": {
            "tags": []
          },
          "execution_count": 62
        }
      ]
    },
    {
      "cell_type": "code",
      "metadata": {
        "id": "tHG7fH8WwJBe",
        "colab_type": "code",
        "colab": {}
      },
      "source": [
        ""
      ],
      "execution_count": 0,
      "outputs": []
    },
    {
      "cell_type": "markdown",
      "metadata": {
        "id": "j9c9-eX0xFZJ",
        "colab_type": "text"
      },
      "source": [
        "# Matplotlib"
      ]
    },
    {
      "cell_type": "code",
      "metadata": {
        "id": "8KyrKBd5xHEC",
        "colab_type": "code",
        "colab": {}
      },
      "source": [
        "import matplotlib.pyplot as plt"
      ],
      "execution_count": 0,
      "outputs": []
    },
    {
      "cell_type": "code",
      "metadata": {
        "id": "sHMbhyxyxN0m",
        "colab_type": "code",
        "outputId": "14a10426-ea0e-45be-caa5-2ceadf13ae1b",
        "colab": {
          "base_uri": "https://localhost:8080/",
          "height": 295
        }
      },
      "source": [
        "x = list(range(1,9))\n",
        "y = list(notas_matematicas)\n",
        "\n",
        "plt.plot(x, y, marker='o')\n",
        "\n",
        "plt.title('Notas matemáticas')\n",
        "plt.xlabel('Provas')\n",
        "plt.ylabel('Notas')\n",
        "plt.show()"
      ],
      "execution_count": 0,
      "outputs": [
        {
          "output_type": "display_data",
          "data": {
            "image/png": "[encoded data removed]",
            "text/plain": [
              "<Figure size 432x288 with 1 Axes>"
            ]
          },
          "metadata": {
            "tags": [],
            "needs_background": "light"
          }
        }
      ]
    },
    {
      "cell_type": "code",
      "metadata": {
        "id": "5hoKfdyDxnGW",
        "colab_type": "code",
        "colab": {}
      },
      "source": [
        ""
      ],
      "execution_count": 0,
      "outputs": []
    }
  ]
}